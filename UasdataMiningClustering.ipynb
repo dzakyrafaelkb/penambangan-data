import pandas as pd
from sklearn.preprocessing import StandardScaler
from sklearn.cluster import KMeans
import matplotlib.pyplot as plt
import seaborn as sns


# Step 1: Import necessary libraries
print("Step 1: Importing Libraries")
print("Libraries imported successfully.")

# Step 2: Load and explore the dataset
file_path = 'datasetUas.xlsx'
data = pd.read_excel(file_path, sheet_name='Sheet1')


print("\nStep 2: Dataset Loaded")
print("Dataset Preview:")
print(data.head())


# Step 3: Explore the dataset
print("\nStep 3: Exploring Dataset")
print("Dataset Information:")
data.info()

print("\nDataset Statistics:")
print(data.describe())

print("\nStep 3: Validating and Cleaning Data")
# Check for unique values in 'Kategori Konten'
kategori_unique = data['Kategori Konten'].unique()
print("Unique Categories:", kategori_unique)

# Ensure 'Jumlah Pemblokiran' is numeric
data['Jumlah Pemblokiran'] = pd.to_numeric(data['Jumlah Pemblokiran'], errors='coerce')

# Check for missing or null values in 'Jumlah Pemblokiran'
if data['Jumlah Pemblokiran'].isnull().sum() > 0:
    print("Missing values detected in 'Jumlah Pemblokiran'. Filling with 0.")
    data['Jumlah Pemblokiran'].fillna(0, inplace=True)

# Aggregate data by 'Kategori Konten'
data_aggregated = data.groupby('Kategori Konten', as_index=False).sum()
print("Aggregated Data:")
print(data_aggregated)

# Cek hasil agregasi data
print(data.groupby('Kategori Konten')['Jumlah Pemblokiran'].sum())

# Visualisasi dengan skala logaritmik
plt.figure(figsize=(10, 6))
sns.barplot(x='Kategori Konten', y='Jumlah Pemblokiran', data=data_aggregated, errorbar=None)
plt.yscale('log')  # Terapkan skala log
plt.title('Jumlah Pemblokiran per Kategori Konten (Log Scale)', fontsize=14)
plt.xticks(rotation=45, ha='right', fontsize=10)
plt.ylabel('Jumlah Pemblokiran (Log Scale)', fontsize=12)
plt.xlabel('Kategori Konten', fontsize=12)
plt.tight_layout()
plt.show()

# Tampilkan jumlah total pemblokiran
total_pemblokiran = data_aggregated['Jumlah Pemblokiran'].sum()
print(f"Total Jumlah Pemblokiran: {total_pemblokiran}")

# Step 5: Preprocessing for clustering
print("\nStep 5: Preprocessing for Clustering")
data_numeric = data_aggregated[['Jumlah Pemblokiran']]
scaler = StandardScaler()
data_scaled = scaler.fit_transform(data_numeric)
print("Data normalized successfully.")

# Step 6: Determine the optimal number of clusters using the Elbow Method
print("\nStep 6: Determining Optimal Number of Clusters")
inertia = []
k_range = range(1, 10)

for k in k_range:
    kmeans = KMeans(n_clusters=k, random_state=42, n_init=10)
    kmeans.fit(data_scaled)
    inertia.append(kmeans.inertia_)

# Plot the Elbow Curve
plt.figure(figsize=(8, 5))
plt.plot(k_range, inertia, marker='o')
plt.title('Elbow Method for Optimal K')
plt.xlabel('Number of Clusters (K)')
plt.ylabel('Inertia')
plt.grid()
plt.show()

# Step 7: Apply K-Means Clustering
print("\nStep 7: Applying K-Means Clustering")
k_optimal = 3  # Adjust this based on the elbow point
kmeans = KMeans(n_clusters=k_optimal, random_state=42, n_init=10)
kmeans.fit(data_scaled)

# Add the cluster labels to the aggregated dataset
data_aggregated['Cluster'] = kmeans.labels_
print("K-Means clustering applied successfully.")

# Clustering dengan jumlah cluster optimal
k_optimal = 3  # Sesuaikan berdasarkan elbow method
kmeans = KMeans(n_clusters=k_optimal, random_state=42, n_init=10)
data_aggregated['Cluster'] = kmeans.fit_predict(data_scaled)

print(data_aggregated.columns)

# Tambahkan kolom 'Persentase'
total_pemblokiran = data_aggregated['Jumlah Pemblokiran'].sum()
data_aggregated['Persentase'] = data_aggregated['Jumlah Pemblokiran'] / total_pemblokiran * 100

print(data_aggregated[['Kategori Konten', 'Jumlah Pemblokiran', 'Persentase']])

print(data_aggregated.groupby('Cluster')['Jumlah Pemblokiran'].sum())

# Visualisasi total pemblokiran berdasarkan cluster
plt.figure(figsize=(8, 5))
sns.barplot(x='Cluster', y='Jumlah Pemblokiran', data=data_aggregated, errorbar=None) # Changed y to 'Jumlah Pemblokiran'
plt.title('Total Pemblokiran per Cluster (Log-Normalized)')
plt.xlabel('Cluster')
plt.ylabel('Total Pemblokiran (Log Scale)')
plt.yscale('log') # Apply log scale to the y-axis
plt.grid()
plt.show()

# Visualisasi Pie Chart untuk Persentase Tiap Cluster
cluster_summary = data_aggregated.groupby('Cluster')['Persentase'].sum()
labels = [f'Cluster {i}' for i in cluster_summary.index]

plt.figure(figsize=(8, 6))
plt.pie(cluster_summary, labels=labels, autopct='%1.1f%%', startangle=140, colors=['lightblue', 'orange', 'lightgreen'])
plt.title('Persentase Pemblokiran per Cluster')
plt.show()

from sklearn.metrics import silhouette_score

# Hitung silhouette score
silhouette_avg = silhouette_score(data_scaled, data_aggregated['Cluster'])
print(f"Silhouette Score: {silhouette_avg:.3f}")
